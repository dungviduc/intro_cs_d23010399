{
 "cells": [
  {
   "cell_type": "markdown",
   "id": "822b62f0",
   "metadata": {},
   "source": [
    "# Let talk to python"
   ]
  },
  {
   "cell_type": "markdown",
   "id": "8d73ffc8",
   "metadata": {},
   "source": [
    "## Math"
   ]
  },
  {
   "cell_type": "code",
   "execution_count": 2,
   "id": "1f9c26da",
   "metadata": {},
   "outputs": [
    {
     "data": {
      "text/plain": [
       "9"
      ]
     },
     "execution_count": 2,
     "metadata": {},
     "output_type": "execute_result"
    }
   ],
   "source": [
    "# phep cong\n",
    "1+2+6"
   ]
  },
  {
   "cell_type": "code",
   "execution_count": 3,
   "id": "9feb0369",
   "metadata": {},
   "outputs": [
    {
     "data": {
      "text/plain": [
       "5"
      ]
     },
     "execution_count": 3,
     "metadata": {},
     "output_type": "execute_result"
    }
   ],
   "source": [
    "# phep tru\n",
    "9-4"
   ]
  },
  {
   "cell_type": "code",
   "execution_count": 4,
   "id": "430c06ed",
   "metadata": {},
   "outputs": [
    {
     "data": {
      "text/plain": [
       "40"
      ]
     },
     "execution_count": 4,
     "metadata": {},
     "output_type": "execute_result"
    }
   ],
   "source": [
    "# phep nhan\n",
    "5*8"
   ]
  },
  {
   "cell_type": "code",
   "execution_count": 5,
   "id": "518caead",
   "metadata": {},
   "outputs": [
    {
     "data": {
      "text/plain": [
       "3.0"
      ]
     },
     "execution_count": 5,
     "metadata": {},
     "output_type": "execute_result"
    }
   ],
   "source": [
    "# phep chia\n",
    "6/2"
   ]
  },
  {
   "cell_type": "code",
   "execution_count": 6,
   "id": "a9aff36a",
   "metadata": {},
   "outputs": [
    {
     "data": {
      "text/plain": [
       "3.3333333333333335"
      ]
     },
     "execution_count": 6,
     "metadata": {},
     "output_type": "execute_result"
    }
   ],
   "source": [
    "10/3"
   ]
  },
  {
   "cell_type": "code",
   "execution_count": 7,
   "id": "4ddcc577",
   "metadata": {},
   "outputs": [
    {
     "data": {
      "text/plain": [
       "3"
      ]
     },
     "execution_count": 7,
     "metadata": {},
     "output_type": "execute_result"
    }
   ],
   "source": [
    "round(10/3)"
   ]
  },
  {
   "cell_type": "code",
   "execution_count": 8,
   "id": "47143f30",
   "metadata": {},
   "outputs": [],
   "source": [
    "?round"
   ]
  },
  {
   "cell_type": "code",
   "execution_count": 9,
   "id": "ba7d487d",
   "metadata": {},
   "outputs": [
    {
     "data": {
      "text/plain": [
       "3.33333"
      ]
     },
     "execution_count": 9,
     "metadata": {},
     "output_type": "execute_result"
    }
   ],
   "source": [
    "round(10/3,5)"
   ]
  },
  {
   "cell_type": "code",
   "execution_count": 10,
   "id": "7827be28",
   "metadata": {},
   "outputs": [
    {
     "data": {
      "text/plain": [
       "True"
      ]
     },
     "execution_count": 10,
     "metadata": {},
     "output_type": "execute_result"
    }
   ],
   "source": [
    "5==5"
   ]
  },
  {
   "cell_type": "code",
   "execution_count": 11,
   "id": "c2a77856",
   "metadata": {},
   "outputs": [
    {
     "data": {
      "text/plain": [
       "False"
      ]
     },
     "execution_count": 11,
     "metadata": {},
     "output_type": "execute_result"
    }
   ],
   "source": [
    "5!=5"
   ]
  },
  {
   "cell_type": "code",
   "execution_count": 12,
   "id": "4ab18ce7",
   "metadata": {},
   "outputs": [
    {
     "data": {
      "text/plain": [
       "4"
      ]
     },
     "execution_count": 12,
     "metadata": {},
     "output_type": "execute_result"
    }
   ],
   "source": [
    "9//2"
   ]
  },
  {
   "cell_type": "code",
   "execution_count": 13,
   "id": "13b00036",
   "metadata": {},
   "outputs": [
    {
     "ename": "SyntaxError",
     "evalue": "unexpected character after line continuation character (2010522300.py, line 1)",
     "output_type": "error",
     "traceback": [
      "\u001b[0;36m  Cell \u001b[0;32mIn [13], line 1\u001b[0;36m\u001b[0m\n\u001b[0;31m    9\\2\u001b[0m\n\u001b[0m      ^\u001b[0m\n\u001b[0;31mSyntaxError\u001b[0m\u001b[0;31m:\u001b[0m unexpected character after line continuation character\n"
     ]
    }
   ],
   "source": [
    "9\\2"
   ]
  },
  {
   "cell_type": "code",
   "execution_count": 14,
   "id": "a7689b4d",
   "metadata": {},
   "outputs": [
    {
     "data": {
      "text/plain": [
       "1"
      ]
     },
     "execution_count": 14,
     "metadata": {},
     "output_type": "execute_result"
    }
   ],
   "source": [
    "9%2"
   ]
  },
  {
   "cell_type": "code",
   "execution_count": 15,
   "id": "3618ab14",
   "metadata": {},
   "outputs": [
    {
     "data": {
      "text/plain": [
       "27"
      ]
     },
     "execution_count": 15,
     "metadata": {},
     "output_type": "execute_result"
    }
   ],
   "source": [
    "3**3"
   ]
  },
  {
   "cell_type": "markdown",
   "id": "ba848b5b",
   "metadata": {},
   "source": [
    "## String"
   ]
  },
  {
   "cell_type": "code",
   "execution_count": 17,
   "id": "8eaf408f",
   "metadata": {},
   "outputs": [
    {
     "data": {
      "text/plain": [
       "'hi'"
      ]
     },
     "execution_count": 17,
     "metadata": {},
     "output_type": "execute_result"
    }
   ],
   "source": [
    "\"hi\""
   ]
  },
  {
   "cell_type": "code",
   "execution_count": 18,
   "id": "b575580e",
   "metadata": {},
   "outputs": [
    {
     "data": {
      "text/plain": [
       "'jjjdkj'"
      ]
     },
     "execution_count": 18,
     "metadata": {},
     "output_type": "execute_result"
    }
   ],
   "source": [
    "\"jjjdkj\""
   ]
  },
  {
   "cell_type": "markdown",
   "id": "283007ef",
   "metadata": {},
   "source": [
    "## string operatios\n",
    "\"hi\"+\"every\"+\"body\""
   ]
  },
  {
   "cell_type": "code",
   "execution_count": 19,
   "id": "93164405",
   "metadata": {},
   "outputs": [
    {
     "data": {
      "text/plain": [
       "'hib'"
      ]
     },
     "execution_count": 19,
     "metadata": {},
     "output_type": "execute_result"
    }
   ],
   "source": [
    "\"hi\"+\"b\""
   ]
  },
  {
   "cell_type": "code",
   "execution_count": 20,
   "id": "2ec33a77",
   "metadata": {},
   "outputs": [
    {
     "data": {
      "text/plain": [
       "'hihihihihihihihihihi'"
      ]
     },
     "execution_count": 20,
     "metadata": {},
     "output_type": "execute_result"
    }
   ],
   "source": [
    "\"hi\"*10"
   ]
  },
  {
   "cell_type": "markdown",
   "id": "d0322183",
   "metadata": {},
   "source": [
    "### string index"
   ]
  },
  {
   "cell_type": "code",
   "execution_count": 22,
   "id": "40faaef7",
   "metadata": {},
   "outputs": [
    {
     "data": {
      "text/plain": [
       "'NCBCNV'"
      ]
     },
     "execution_count": 22,
     "metadata": {},
     "output_type": "execute_result"
    }
   ],
   "source": [
    "\"ncbcnv\".upper()"
   ]
  },
  {
   "cell_type": "code",
   "execution_count": 23,
   "id": "e770ccab",
   "metadata": {},
   "outputs": [
    {
     "data": {
      "text/plain": [
       "'jskjsks'"
      ]
     },
     "execution_count": 23,
     "metadata": {},
     "output_type": "execute_result"
    }
   ],
   "source": [
    "\"JSKJSKS\".lower()"
   ]
  },
  {
   "cell_type": "code",
   "execution_count": 26,
   "id": "e7962cf6",
   "metadata": {},
   "outputs": [
    {
     "data": {
      "text/plain": [
       "13"
      ]
     },
     "execution_count": 26,
     "metadata": {},
     "output_type": "execute_result"
    }
   ],
   "source": [
    "len(\"vnnnnnnggjgkf\")"
   ]
  },
  {
   "cell_type": "code",
   "execution_count": 27,
   "id": "86485c7e",
   "metadata": {},
   "outputs": [
    {
     "data": {
      "text/plain": [
       "'fffj fjk  fk'"
      ]
     },
     "execution_count": 27,
     "metadata": {},
     "output_type": "execute_result"
    }
   ],
   "source": [
    "\"              fffj fjk  fk          \".strip()"
   ]
  },
  {
   "cell_type": "code",
   "execution_count": 28,
   "id": "9ef09a3f",
   "metadata": {},
   "outputs": [
    {
     "data": {
      "text/plain": [
       "'ello'"
      ]
     },
     "execution_count": 28,
     "metadata": {},
     "output_type": "execute_result"
    }
   ],
   "source": [
    "\"hello\"[1:10:1]"
   ]
  },
  {
   "cell_type": "code",
   "execution_count": 29,
   "id": "4014917e",
   "metadata": {},
   "outputs": [],
   "source": [
    "a=5"
   ]
  },
  {
   "cell_type": "code",
   "execution_count": 30,
   "id": "772ffe23",
   "metadata": {},
   "outputs": [],
   "source": [
    "b=4"
   ]
  },
  {
   "cell_type": "code",
   "execution_count": 31,
   "id": "bd127bdd",
   "metadata": {},
   "outputs": [
    {
     "data": {
      "text/plain": [
       "9"
      ]
     },
     "execution_count": 31,
     "metadata": {},
     "output_type": "execute_result"
    }
   ],
   "source": [
    "a+b"
   ]
  },
  {
   "cell_type": "code",
   "execution_count": 34,
   "id": "bc52107b",
   "metadata": {},
   "outputs": [
    {
     "name": "stdout",
     "output_type": "stream",
     "text": [
      "kddkd\n"
     ]
    }
   ],
   "source": [
    "s=input()"
   ]
  },
  {
   "cell_type": "code",
   "execution_count": 33,
   "id": "a6016ea1",
   "metadata": {},
   "outputs": [
    {
     "data": {
      "text/plain": [
       "'10'"
      ]
     },
     "execution_count": 33,
     "metadata": {},
     "output_type": "execute_result"
    }
   ],
   "source": [
    "s"
   ]
  },
  {
   "cell_type": "code",
   "execution_count": 35,
   "id": "2ea66447",
   "metadata": {},
   "outputs": [
    {
     "data": {
      "text/plain": [
       "'kddkd'"
      ]
     },
     "execution_count": 35,
     "metadata": {},
     "output_type": "execute_result"
    }
   ],
   "source": [
    "s"
   ]
  },
  {
   "cell_type": "code",
   "execution_count": 36,
   "id": "11352861",
   "metadata": {},
   "outputs": [
    {
     "data": {
      "text/plain": [
       "str"
      ]
     },
     "execution_count": 36,
     "metadata": {},
     "output_type": "execute_result"
    }
   ],
   "source": [
    "type(s\n",
    ")"
   ]
  },
  {
   "cell_type": "code",
   "execution_count": 37,
   "id": "1d225e12",
   "metadata": {},
   "outputs": [
    {
     "name": "stdout",
     "output_type": "stream",
     "text": [
      "10\n"
     ]
    }
   ],
   "source": [
    "s=int(input())"
   ]
  },
  {
   "cell_type": "code",
   "execution_count": 38,
   "id": "7594725a",
   "metadata": {},
   "outputs": [
    {
     "data": {
      "text/plain": [
       "10"
      ]
     },
     "execution_count": 38,
     "metadata": {},
     "output_type": "execute_result"
    }
   ],
   "source": [
    "s"
   ]
  },
  {
   "cell_type": "code",
   "execution_count": 39,
   "id": "92409e52",
   "metadata": {},
   "outputs": [
    {
     "data": {
      "text/plain": [
       "int"
      ]
     },
     "execution_count": 39,
     "metadata": {},
     "output_type": "execute_result"
    }
   ],
   "source": [
    "type(s)"
   ]
  },
  {
   "cell_type": "code",
   "execution_count": 40,
   "id": "de670ec6",
   "metadata": {},
   "outputs": [
    {
     "data": {
      "text/plain": [
       "20"
      ]
     },
     "execution_count": 40,
     "metadata": {},
     "output_type": "execute_result"
    }
   ],
   "source": [
    "a*b"
   ]
  },
  {
   "cell_type": "code",
   "execution_count": 41,
   "id": "24986520",
   "metadata": {},
   "outputs": [
    {
     "data": {
      "text/plain": [
       "10"
      ]
     },
     "execution_count": 41,
     "metadata": {},
     "output_type": "execute_result"
    }
   ],
   "source": [
    "s"
   ]
  },
  {
   "cell_type": "code",
   "execution_count": 42,
   "id": "97959c6e",
   "metadata": {},
   "outputs": [
    {
     "data": {
      "text/plain": [
       "9"
      ]
     },
     "execution_count": 42,
     "metadata": {},
     "output_type": "execute_result"
    }
   ],
   "source": [
    "s-a+b"
   ]
  },
  {
   "cell_type": "code",
   "execution_count": 1,
   "id": "b274ba73",
   "metadata": {},
   "outputs": [
    {
     "ename": "NameError",
     "evalue": "name 'string' is not defined",
     "output_type": "error",
     "traceback": [
      "\u001b[0;31m---------------------------------------------------------------------------\u001b[0m",
      "\u001b[0;31mNameError\u001b[0m                                 Traceback (most recent call last)",
      "Cell \u001b[0;32mIn [1], line 1\u001b[0m\n\u001b[0;32m----> 1\u001b[0m S\u001b[38;5;241m=\u001b[39m\u001b[43mstring\u001b[49m(\u001b[38;5;28minput\u001b[39m())\n",
      "\u001b[0;31mNameError\u001b[0m: name 'string' is not defined"
     ]
    }
   ],
   "source": [
    "S=string(input())"
   ]
  },
  {
   "cell_type": "code",
   "execution_count": 2,
   "id": "55cc0b03",
   "metadata": {},
   "outputs": [
    {
     "name": "stdout",
     "output_type": "stream",
     "text": [
      "hello\n"
     ]
    }
   ],
   "source": [
    "s=str(input())"
   ]
  },
  {
   "cell_type": "code",
   "execution_count": 3,
   "id": "af5286a2",
   "metadata": {},
   "outputs": [
    {
     "data": {
      "text/plain": [
       "'hello'"
      ]
     },
     "execution_count": 3,
     "metadata": {},
     "output_type": "execute_result"
    }
   ],
   "source": [
    "s"
   ]
  },
  {
   "cell_type": "code",
   "execution_count": 4,
   "id": "b1a71806",
   "metadata": {},
   "outputs": [
    {
     "ename": "NameError",
     "evalue": "name 'a' is not defined",
     "output_type": "error",
     "traceback": [
      "\u001b[0;31m---------------------------------------------------------------------------\u001b[0m",
      "\u001b[0;31mNameError\u001b[0m                                 Traceback (most recent call last)",
      "Cell \u001b[0;32mIn [4], line 1\u001b[0m\n\u001b[0;32m----> 1\u001b[0m \u001b[43ma\u001b[49m\u001b[38;5;241m/\u001b[39mb\n",
      "\u001b[0;31mNameError\u001b[0m: name 'a' is not defined"
     ]
    }
   ],
   "source": [
    "a/b"
   ]
  },
  {
   "cell_type": "code",
   "execution_count": 5,
   "id": "c270f786",
   "metadata": {},
   "outputs": [],
   "source": [
    "c=12.6"
   ]
  },
  {
   "cell_type": "code",
   "execution_count": 6,
   "id": "e105815a",
   "metadata": {},
   "outputs": [
    {
     "ename": "NameError",
     "evalue": "name 'a' is not defined",
     "output_type": "error",
     "traceback": [
      "\u001b[0;31m---------------------------------------------------------------------------\u001b[0m",
      "\u001b[0;31mNameError\u001b[0m                                 Traceback (most recent call last)",
      "Cell \u001b[0;32mIn [6], line 1\u001b[0m\n\u001b[0;32m----> 1\u001b[0m \u001b[43ma\u001b[49m\u001b[38;5;241m*\u001b[39mc\n",
      "\u001b[0;31mNameError\u001b[0m: name 'a' is not defined"
     ]
    }
   ],
   "source": [
    "a*c"
   ]
  },
  {
   "cell_type": "code",
   "execution_count": 7,
   "id": "6b322520",
   "metadata": {},
   "outputs": [
    {
     "ename": "NameError",
     "evalue": "name 'a' is not defined",
     "output_type": "error",
     "traceback": [
      "\u001b[0;31m---------------------------------------------------------------------------\u001b[0m",
      "\u001b[0;31mNameError\u001b[0m                                 Traceback (most recent call last)",
      "Cell \u001b[0;32mIn [7], line 1\u001b[0m\n\u001b[0;32m----> 1\u001b[0m \u001b[43ma\u001b[49m\n",
      "\u001b[0;31mNameError\u001b[0m: name 'a' is not defined"
     ]
    }
   ],
   "source": [
    "a"
   ]
  },
  {
   "cell_type": "code",
   "execution_count": 8,
   "id": "85a23a30",
   "metadata": {},
   "outputs": [
    {
     "ename": "SyntaxError",
     "evalue": "invalid syntax (62411553.py, line 1)",
     "output_type": "error",
     "traceback": [
      "\u001b[0;36m  Cell \u001b[0;32mIn [8], line 1\u001b[0;36m\u001b[0m\n\u001b[0;31m    a=\u001b[0m\n\u001b[0m      ^\u001b[0m\n\u001b[0;31mSyntaxError\u001b[0m\u001b[0;31m:\u001b[0m invalid syntax\n"
     ]
    }
   ],
   "source": [
    "a="
   ]
  },
  {
   "cell_type": "code",
   "execution_count": 9,
   "id": "b3c6f526",
   "metadata": {},
   "outputs": [],
   "source": [
    "a=3"
   ]
  },
  {
   "cell_type": "code",
   "execution_count": 10,
   "id": "fe52087f",
   "metadata": {},
   "outputs": [
    {
     "data": {
      "text/plain": [
       "37.8"
      ]
     },
     "execution_count": 10,
     "metadata": {},
     "output_type": "execute_result"
    }
   ],
   "source": [
    "a*c"
   ]
  },
  {
   "cell_type": "code",
   "execution_count": 11,
   "id": "a584c875",
   "metadata": {},
   "outputs": [
    {
     "ename": "NameError",
     "evalue": "name 'true' is not defined",
     "output_type": "error",
     "traceback": [
      "\u001b[0;31m---------------------------------------------------------------------------\u001b[0m",
      "\u001b[0;31mNameError\u001b[0m                                 Traceback (most recent call last)",
      "Cell \u001b[0;32mIn [11], line 1\u001b[0m\n\u001b[0;32m----> 1\u001b[0m \u001b[43mtrue\u001b[49m\n",
      "\u001b[0;31mNameError\u001b[0m: name 'true' is not defined"
     ]
    }
   ],
   "source": [
    "true"
   ]
  },
  {
   "cell_type": "code",
   "execution_count": 12,
   "id": "f95cf555",
   "metadata": {},
   "outputs": [
    {
     "data": {
      "text/plain": [
       "True"
      ]
     },
     "execution_count": 12,
     "metadata": {},
     "output_type": "execute_result"
    }
   ],
   "source": [
    "True"
   ]
  },
  {
   "cell_type": "code",
   "execution_count": 13,
   "id": "3dd7d50c",
   "metadata": {},
   "outputs": [
    {
     "data": {
      "text/plain": [
       "False"
      ]
     },
     "execution_count": 13,
     "metadata": {},
     "output_type": "execute_result"
    }
   ],
   "source": [
    "a==5"
   ]
  },
  {
   "cell_type": "code",
   "execution_count": 14,
   "id": "f3744b9f",
   "metadata": {},
   "outputs": [
    {
     "data": {
      "text/plain": [
       "''"
      ]
     },
     "execution_count": 14,
     "metadata": {},
     "output_type": "execute_result"
    }
   ],
   "source": [
    "fruit = [\"apple\" , \"banana\" ]\n",
    "\n",
    "\n",
    "\n",
    "\n",
    "\n",
    "''"
   ]
  },
  {
   "cell_type": "code",
   "execution_count": 15,
   "id": "a8cdde6d",
   "metadata": {},
   "outputs": [
    {
     "data": {
      "text/plain": [
       "['apple', 'banana']"
      ]
     },
     "execution_count": 15,
     "metadata": {},
     "output_type": "execute_result"
    }
   ],
   "source": [
    "fruit\n"
   ]
  },
  {
   "cell_type": "code",
   "execution_count": 18,
   "id": "40240952",
   "metadata": {},
   "outputs": [],
   "source": [
    "colors=[\"black\",\"red\",\"blue\"]"
   ]
  },
  {
   "cell_type": "code",
   "execution_count": 19,
   "id": "51fa4fdf",
   "metadata": {},
   "outputs": [
    {
     "data": {
      "text/plain": [
       "['black', 'red', 'blue']"
      ]
     },
     "execution_count": 19,
     "metadata": {},
     "output_type": "execute_result"
    }
   ],
   "source": [
    "colors"
   ]
  },
  {
   "cell_type": "code",
   "execution_count": 20,
   "id": "aec3c3d3",
   "metadata": {},
   "outputs": [
    {
     "name": "stdout",
     "output_type": "stream",
     "text": [
      "['black', 'red', 'blue']\n"
     ]
    }
   ],
   "source": [
    "print(colors)"
   ]
  },
  {
   "cell_type": "code",
   "execution_count": 8,
   "id": "e35851c8",
   "metadata": {},
   "outputs": [],
   "source": [
    "colors[1]"
   ]
  },
  {
   "cell_type": "markdown",
   "id": "12c84b9e",
   "metadata": {},
   "source": [
    "# 1 số hàm/phương thức"
   ]
  },
  {
   "cell_type": "code",
   "execution_count": 24,
   "id": "9e867eeb",
   "metadata": {},
   "outputs": [
    {
     "ename": "SyntaxError",
     "evalue": "invalid syntax (1205689361.py, line 1)",
     "output_type": "error",
     "traceback": [
      "\u001b[0;36m  Cell \u001b[0;32mIn [24], line 1\u001b[0;36m\u001b[0m\n\u001b[0;31m    slicing:lấy ra ds con\u001b[0m\n\u001b[0m                ^\u001b[0m\n\u001b[0;31mSyntaxError\u001b[0m\u001b[0;31m:\u001b[0m invalid syntax\n"
     ]
    }
   ],
   "source": [
    "slicing:lấy ra ds con\n",
    "    \n",
    "ls[begin:end:step]"
   ]
  },
  {
   "cell_type": "code",
   "execution_count": 23,
   "id": "fb187681",
   "metadata": {},
   "outputs": [],
   "source": [
    "lst=[10,20,30,40,50,60,70,80,90]"
   ]
  },
  {
   "cell_type": "code",
   "execution_count": 25,
   "id": "33810700",
   "metadata": {},
   "outputs": [
    {
     "data": {
      "text/plain": [
       "[10, 20, 30]"
      ]
     },
     "execution_count": 25,
     "metadata": {},
     "output_type": "execute_result"
    }
   ],
   "source": [
    "lst[0:3]"
   ]
  },
  {
   "cell_type": "code",
   "execution_count": 26,
   "id": "caff725f",
   "metadata": {},
   "outputs": [
    {
     "data": {
      "text/plain": [
       "[50, 60, 70, 80]"
      ]
     },
     "execution_count": 26,
     "metadata": {},
     "output_type": "execute_result"
    }
   ],
   "source": [
    "lst[4:8]"
   ]
  },
  {
   "cell_type": "code",
   "execution_count": 27,
   "id": "48249dea",
   "metadata": {},
   "outputs": [
    {
     "data": {
      "text/plain": [
       "[50, 60]"
      ]
     },
     "execution_count": 27,
     "metadata": {},
     "output_type": "execute_result"
    }
   ],
   "source": [
    "lst[-5:-3]"
   ]
  },
  {
   "cell_type": "code",
   "execution_count": 28,
   "id": "43c3dd97",
   "metadata": {},
   "outputs": [
    {
     "data": {
      "text/plain": [
       "[90, 80, 70, 60, 50, 40, 30, 20, 10]"
      ]
     },
     "execution_count": 28,
     "metadata": {},
     "output_type": "execute_result"
    }
   ],
   "source": [
    "lst[::-1]"
   ]
  },
  {
   "cell_type": "code",
   "execution_count": 29,
   "id": "38084ae5",
   "metadata": {},
   "outputs": [
    {
     "ename": "NameError",
     "evalue": "name 'append' is not defined",
     "output_type": "error",
     "traceback": [
      "\u001b[0;31m---------------------------------------------------------------------------\u001b[0m",
      "\u001b[0;31mNameError\u001b[0m                                 Traceback (most recent call last)",
      "Cell \u001b[0;32mIn [29], line 1\u001b[0m\n\u001b[0;32m----> 1\u001b[0m lst,\u001b[43mappend\u001b[49m(\u001b[38;5;241m100\u001b[39m)\n",
      "\u001b[0;31mNameError\u001b[0m: name 'append' is not defined"
     ]
    }
   ],
   "source": [
    "lst,append(100)"
   ]
  },
  {
   "cell_type": "code",
   "execution_count": 33,
   "id": "7b3f224e",
   "metadata": {},
   "outputs": [],
   "source": [
    "#chèn\n",
    "lst.insert(2,7)"
   ]
  },
  {
   "cell_type": "code",
   "execution_count": 34,
   "id": "4d4330ba",
   "metadata": {},
   "outputs": [
    {
     "data": {
      "text/plain": [
       "[10, 20, 7, 30, 40, 50, 60, 70, 80, 90]"
      ]
     },
     "execution_count": 34,
     "metadata": {},
     "output_type": "execute_result"
    }
   ],
   "source": [
    "lst"
   ]
  },
  {
   "cell_type": "code",
   "execution_count": 35,
   "id": "32b75023",
   "metadata": {},
   "outputs": [],
   "source": [
    "#thêm vào cuối\n",
    "lst.append(100)"
   ]
  },
  {
   "cell_type": "code",
   "execution_count": 36,
   "id": "52ca76b3",
   "metadata": {
    "scrolled": true
   },
   "outputs": [
    {
     "data": {
      "text/plain": [
       "[10, 20, 7, 30, 40, 50, 60, 70, 80, 90, 100]"
      ]
     },
     "execution_count": 36,
     "metadata": {},
     "output_type": "execute_result"
    }
   ],
   "source": [
    "lst"
   ]
  },
  {
   "cell_type": "code",
   "execution_count": 38,
   "id": "55cf00d2",
   "metadata": {},
   "outputs": [],
   "source": [
    "#xóa\n",
    "lst.remove(50)"
   ]
  },
  {
   "cell_type": "code",
   "execution_count": 39,
   "id": "9857aa18",
   "metadata": {},
   "outputs": [
    {
     "data": {
      "text/plain": [
       "[10, 20, 7, 30, 40, 60, 70, 80, 90, 100]"
      ]
     },
     "execution_count": 39,
     "metadata": {},
     "output_type": "execute_result"
    }
   ],
   "source": [
    "lst"
   ]
  },
  {
   "cell_type": "code",
   "execution_count": 40,
   "id": "9b74d181",
   "metadata": {},
   "outputs": [],
   "source": [
    "#đảo\n",
    "lst.reverse()"
   ]
  },
  {
   "cell_type": "code",
   "execution_count": 41,
   "id": "a2586950",
   "metadata": {},
   "outputs": [
    {
     "data": {
      "text/plain": [
       "[100, 90, 80, 70, 60, 40, 30, 7, 20, 10]"
      ]
     },
     "execution_count": 41,
     "metadata": {},
     "output_type": "execute_result"
    }
   ],
   "source": [
    "lst"
   ]
  },
  {
   "cell_type": "code",
   "execution_count": 42,
   "id": "89ee94e6",
   "metadata": {},
   "outputs": [],
   "source": [
    "del lst[2]"
   ]
  },
  {
   "cell_type": "code",
   "execution_count": 43,
   "id": "764a2add",
   "metadata": {},
   "outputs": [
    {
     "data": {
      "text/plain": [
       "[100, 90, 70, 60, 40, 30, 7, 20, 10]"
      ]
     },
     "execution_count": 43,
     "metadata": {},
     "output_type": "execute_result"
    }
   ],
   "source": [
    "lst"
   ]
  },
  {
   "cell_type": "code",
   "execution_count": 46,
   "id": "41d2af31",
   "metadata": {},
   "outputs": [],
   "source": [
    "#sx tăng\n",
    "lst.sort()"
   ]
  },
  {
   "cell_type": "code",
   "execution_count": null,
   "id": "b7c9831f",
   "metadata": {},
   "outputs": [],
   "source": [
    "# lst"
   ]
  },
  {
   "cell_type": "code",
   "execution_count": 50,
   "id": "c81afc00",
   "metadata": {},
   "outputs": [],
   "source": [
    "#sx giảm\n",
    "lst.sort(reverse=True)"
   ]
  },
  {
   "cell_type": "code",
   "execution_count": 51,
   "id": "19e4ff21",
   "metadata": {},
   "outputs": [
    {
     "data": {
      "text/plain": [
       "[100, 90, 70, 60, 40, 30, 20, 10, 7]"
      ]
     },
     "execution_count": 51,
     "metadata": {},
     "output_type": "execute_result"
    }
   ],
   "source": [
    "lst"
   ]
  },
  {
   "cell_type": "markdown",
   "id": "d3928417",
   "metadata": {},
   "source": [
    "# danh sách đa chiều ( ma trận là 2 chiều )"
   ]
  },
  {
   "cell_type": "code",
   "execution_count": 52,
   "id": "769a3d55",
   "metadata": {},
   "outputs": [],
   "source": [
    "matrix =[\n",
    "    [2,4,5],\n",
    "    [1,4,7],\n",
    "    [2,6,7]   \n",
    "]"
   ]
  },
  {
   "cell_type": "code",
   "execution_count": 53,
   "id": "5e46d89f",
   "metadata": {},
   "outputs": [
    {
     "data": {
      "text/plain": [
       "[[2, 4, 5], [1, 4, 7], [2, 6, 7]]"
      ]
     },
     "execution_count": 53,
     "metadata": {},
     "output_type": "execute_result"
    }
   ],
   "source": [
    "matrix"
   ]
  },
  {
   "cell_type": "code",
   "execution_count": 57,
   "id": "864cb312",
   "metadata": {},
   "outputs": [
    {
     "data": {
      "text/plain": [
       "[2, 4, 5]"
      ]
     },
     "execution_count": 57,
     "metadata": {},
     "output_type": "execute_result"
    }
   ],
   "source": [
    "matrix[0]"
   ]
  },
  {
   "cell_type": "code",
   "execution_count": 59,
   "id": "3d0a1efb",
   "metadata": {},
   "outputs": [
    {
     "data": {
      "text/plain": [
       "2"
      ]
     },
     "execution_count": 59,
     "metadata": {},
     "output_type": "execute_result"
    }
   ],
   "source": [
    "matrix[0][0]"
   ]
  },
  {
   "cell_type": "markdown",
   "id": "8245aeaf",
   "metadata": {},
   "source": [
    "# điều kiện, vòng lặp"
   ]
  },
  {
   "cell_type": "markdown",
   "id": "6fbf0da6",
   "metadata": {},
   "source": [
    "## if statement"
   ]
  },
  {
   "cell_type": "code",
   "execution_count": 70,
   "id": "919223d6",
   "metadata": {},
   "outputs": [
    {
     "name": "stdout",
     "output_type": "stream",
     "text": [
      "nhập vào tên của bạn : Trang\n"
     ]
    }
   ],
   "source": [
    "name = input(\"nhập vào tên của bạn : \")"
   ]
  },
  {
   "cell_type": "code",
   "execution_count": 72,
   "id": "a7672c0e",
   "metadata": {},
   "outputs": [
    {
     "name": "stdout",
     "output_type": "stream",
     "text": [
      "hi Trang\n"
     ]
    }
   ],
   "source": [
    "if name == \"Nam\" :\n",
    "    print(\"hi Nam\")\n",
    "elif name == \"Trang\" :\n",
    "    print(\"hi Trang\")\n",
    "else : print(\"không phải là Nam,Trang mà là \",name)"
   ]
  },
  {
   "cell_type": "markdown",
   "id": "f3d3e4ee",
   "metadata": {},
   "source": [
    "## vòng lặp (loops)\n",
    "\n",
    "-counting loops ( lặp đếm)\n",
    "-conditional loops ( lặp điều kiện)"
   ]
  },
  {
   "cell_type": "markdown",
   "id": "8979c7fd",
   "metadata": {},
   "source": [
    "### counting loops - for"
   ]
  },
  {
   "cell_type": "code",
   "execution_count": 73,
   "id": "1feb7d63",
   "metadata": {},
   "outputs": [
    {
     "name": "stdout",
     "output_type": "stream",
     "text": [
      " số mới   2\n",
      " số mới   3\n",
      " số mới   4\n",
      " số mới   5\n",
      " số mới   6\n"
     ]
    }
   ],
   "source": [
    "for mynum in [1,2,3,4,5] :\n",
    "    newnum = mynum+1\n",
    "    print(\" số mới  \",newnum)"
   ]
  },
  {
   "cell_type": "markdown",
   "id": "10c43baf",
   "metadata": {},
   "source": [
    "### lặp điều kiện - while "
   ]
  },
  {
   "cell_type": "code",
   "execution_count": 85,
   "id": "588c8d3f",
   "metadata": {},
   "outputs": [
    {
     "name": "stdout",
     "output_type": "stream",
     "text": [
      "số đếm là :  1\n",
      "số đếm là :  2\n",
      "số đếm là :  3\n",
      "số đếm là :  4\n",
      "số đếm là :  5\n",
      "số đếm là :  6\n",
      "số đếm là :  7\n",
      "số đếm là :  8\n",
      "số đếm là :  9\n",
      "số đếm là :  10\n"
     ]
    }
   ],
   "source": [
    "count = 0\n",
    "while count<10 :\n",
    "    count = count + 1 \n",
    "    print(\"số đếm là : \",count)\n"
   ]
  },
  {
   "cell_type": "code",
   "execution_count": 90,
   "id": "ead12e17",
   "metadata": {},
   "outputs": [
    {
     "name": "stdout",
     "output_type": "stream",
     "text": [
      "nhập a= 5\n",
      "giá trị a=  5\n",
      "bạn có muốn tiếp tục không (c/k) k\n",
      "bye\n"
     ]
    }
   ],
   "source": [
    "while True:\n",
    "    a= int(input(\"nhập a= \"))\n",
    "    print(\"giá trị a= \",a)\n",
    "    s=input(\"bạn có muốn tiếp tục không (c/k) \")\n",
    "    if (s == \"k\") : \n",
    "        print(\"bye\") \n",
    "        break "
   ]
  },
  {
   "cell_type": "code",
   "execution_count": 107,
   "id": "20f13342",
   "metadata": {},
   "outputs": [
    {
     "name": "stdout",
     "output_type": "stream",
     "text": [
      "số đếm dừng tại 5 là :  1\n",
      "số đếm dừng tại 5 là :  2\n",
      "số đếm dừng tại 5 là :  3\n",
      "số đếm dừng tại 5 là :  4\n",
      "số đếm dừng tại 5 là :  5\n"
     ]
    }
   ],
   "source": [
    "#break\n",
    "count = 0\n",
    "while count<10 :\n",
    "    count = count + 1 \n",
    "    print(\"số đếm dừng tại 5 là : \",count)\n",
    "    if count==5 : break"
   ]
  },
  {
   "cell_type": "code",
   "execution_count": 106,
   "id": "8ee4dd82",
   "metadata": {},
   "outputs": [
    {
     "name": "stdout",
     "output_type": "stream",
     "text": [
      "số đếm bỏ qua 5 là :  1\n",
      "số đếm bỏ qua 5 là :  2\n",
      "số đếm bỏ qua 5 là :  3\n",
      "số đếm bỏ qua 5 là :  4\n",
      "số đếm bỏ qua 5 là :  6\n",
      "số đếm bỏ qua 5 là :  7\n",
      "số đếm bỏ qua 5 là :  8\n",
      "số đếm bỏ qua 5 là :  9\n",
      "số đếm bỏ qua 5 là :  10\n"
     ]
    }
   ],
   "source": [
    "#continue\n",
    "a = 0\n",
    "while a<10 :\n",
    "    a = a+1 \n",
    "    if a == 5 : continue    \n",
    "    print(\"số đếm bỏ qua 5 là : \",a)\n"
   ]
  },
  {
   "cell_type": "markdown",
   "id": "2f69090b",
   "metadata": {},
   "source": [
    "# functions (Hàm)"
   ]
  },
  {
   "cell_type": "code",
   "execution_count": 12,
   "id": "931d27c6",
   "metadata": {},
   "outputs": [],
   "source": [
    "def A() :\n",
    "    print(\"hello\")"
   ]
  },
  {
   "cell_type": "code",
   "execution_count": 14,
   "id": "0c4f9cdd",
   "metadata": {},
   "outputs": [
    {
     "name": "stdout",
     "output_type": "stream",
     "text": [
      "hello\n"
     ]
    }
   ],
   "source": [
    "A()"
   ]
  },
  {
   "cell_type": "code",
   "execution_count": 23,
   "id": "adbf9a1d",
   "metadata": {},
   "outputs": [],
   "source": [
    "# có tham số\n",
    "def A(name):\n",
    "    print(\"Hi \",name)"
   ]
  },
  {
   "cell_type": "code",
   "execution_count": 26,
   "id": "e1652e82",
   "metadata": {},
   "outputs": [
    {
     "name": "stdout",
     "output_type": "stream",
     "text": [
      "Hi  dũng\n"
     ]
    }
   ],
   "source": [
    "A(\"dũng\")"
   ]
  },
  {
   "cell_type": "code",
   "execution_count": 63,
   "id": "bde8a8d9",
   "metadata": {},
   "outputs": [],
   "source": [
    "#bài tập chẵn lẻ\n",
    "def number(n) :\n",
    "    if n % 2 == 0 :\n",
    "        print(\" là số chẵn\")\n",
    "    else: print(\" là số lẻ\")"
   ]
  },
  {
   "cell_type": "code",
   "execution_count": 64,
   "id": "5081db8d",
   "metadata": {},
   "outputs": [
    {
     "name": "stdout",
     "output_type": "stream",
     "text": [
      " là số lẻ\n"
     ]
    }
   ],
   "source": [
    "number(7)"
   ]
  },
  {
   "cell_type": "code",
   "execution_count": 65,
   "id": "fc19e100",
   "metadata": {},
   "outputs": [],
   "source": [
    "# viết 1 hàm có tham số là 2 số, in ra kết quả là tích 2 số đó\n",
    "def tich(num1, num2) :\n",
    "    print(num1 * num2)"
   ]
  },
  {
   "cell_type": "code",
   "execution_count": 67,
   "id": "c39caeca",
   "metadata": {},
   "outputs": [
    {
     "name": "stdout",
     "output_type": "stream",
     "text": [
      "20\n"
     ]
    }
   ],
   "source": [
    "tich(5,4)"
   ]
  },
  {
   "cell_type": "code",
   "execution_count": 68,
   "id": "dfcf8df1",
   "metadata": {},
   "outputs": [
    {
     "name": "stdout",
     "output_type": "stream",
     "text": [
      "15\n"
     ]
    }
   ],
   "source": [
    "kq = tich(3,5)"
   ]
  },
  {
   "cell_type": "code",
   "execution_count": 69,
   "id": "db77986b",
   "metadata": {},
   "outputs": [],
   "source": [
    "kq"
   ]
  },
  {
   "cell_type": "code",
   "execution_count": 70,
   "id": "c246006f",
   "metadata": {},
   "outputs": [],
   "source": [
    "def tich(num1, num2) :\n",
    "    print(num1 * num2)\n",
    "    return(num1*num2)"
   ]
  },
  {
   "cell_type": "code",
   "execution_count": 73,
   "id": "1da1ca78",
   "metadata": {},
   "outputs": [
    {
     "name": "stdout",
     "output_type": "stream",
     "text": [
      "15\n"
     ]
    }
   ],
   "source": [
    "kq=tich(3,5)"
   ]
  },
  {
   "cell_type": "code",
   "execution_count": 74,
   "id": "f357ada2",
   "metadata": {},
   "outputs": [
    {
     "data": {
      "text/plain": [
       "15"
      ]
     },
     "execution_count": 74,
     "metadata": {},
     "output_type": "execute_result"
    }
   ],
   "source": [
    "kq"
   ]
  },
  {
   "cell_type": "code",
   "execution_count": 75,
   "id": "60ac20cd",
   "metadata": {},
   "outputs": [
    {
     "data": {
      "text/plain": [
       "15"
      ]
     },
     "execution_count": 75,
     "metadata": {},
     "output_type": "execute_result"
    }
   ],
   "source": [
    "kq"
   ]
  },
  {
   "cell_type": "code",
   "execution_count": 76,
   "id": "c9992ebf",
   "metadata": {},
   "outputs": [
    {
     "name": "stdout",
     "output_type": "stream",
     "text": [
      "35\n"
     ]
    }
   ],
   "source": [
    "kq=tich(7,5)"
   ]
  },
  {
   "cell_type": "code",
   "execution_count": 77,
   "id": "9277c976",
   "metadata": {},
   "outputs": [
    {
     "data": {
      "text/plain": [
       "35"
      ]
     },
     "execution_count": 77,
     "metadata": {},
     "output_type": "execute_result"
    }
   ],
   "source": [
    "kq"
   ]
  },
  {
   "cell_type": "code",
   "execution_count": 104,
   "id": "43f0e557",
   "metadata": {},
   "outputs": [],
   "source": [
    "import random"
   ]
  },
  {
   "cell_type": "code",
   "execution_count": 106,
   "id": "92b91e82",
   "metadata": {},
   "outputs": [
    {
     "data": {
      "text/plain": [
       "2"
      ]
     },
     "execution_count": 106,
     "metadata": {},
     "output_type": "execute_result"
    }
   ],
   "source": [
    "random.randint(1,10)"
   ]
  },
  {
   "cell_type": "code",
   "execution_count": 109,
   "id": "9db210bd",
   "metadata": {},
   "outputs": [],
   "source": [
    "import chanle"
   ]
  },
  {
   "cell_type": "code",
   "execution_count": 112,
   "id": "f914789c",
   "metadata": {},
   "outputs": [
    {
     "name": "stdout",
     "output_type": "stream",
     "text": [
      " là số lẻ\n"
     ]
    }
   ],
   "source": [
    "chanle.number(5)"
   ]
  },
  {
   "cell_type": "markdown",
   "id": "48c71cb5",
   "metadata": {},
   "source": [
    "# Let make a game"
   ]
  },
  {
   "cell_type": "code",
   "execution_count": 3,
   "id": "62bf6384",
   "metadata": {},
   "outputs": [],
   "source": [
    "def game1():\n",
    "    a = 6\n",
    "    while True :\n",
    "        n = int(input(\"nhập vào 1 số :\"))\n",
    "        if n==a:\n",
    "            print(\"chính xác\")\n",
    "        else:\n",
    "            print(\"mời nhập lại\")"
   ]
  },
  {
   "cell_type": "code",
   "execution_count": null,
   "id": "2c6507a6",
   "metadata": {},
   "outputs": [],
   "source": [
    "game1()"
   ]
  },
  {
   "cell_type": "code",
   "execution_count": 4,
   "id": "f490c062",
   "metadata": {},
   "outputs": [],
   "source": [
    "from random import randint\n",
    "def game2() :\n",
    "    a=randint(1,10)\n",
    "    while True :\n",
    "        n= int(input(\"nhập 1 số từ 1 đến 10 :\"))\n",
    "        if n==a : print(\"chính xác\")\n",
    "        else : print(\"mời nhập lại\")"
   ]
  },
  {
   "cell_type": "code",
   "execution_count": 6,
   "id": "ce7dac07",
   "metadata": {},
   "outputs": [
    {
     "name": "stdout",
     "output_type": "stream",
     "text": [
      "nhập 1 số từ 1 đến 10 :5\n",
      "mời nhập lại\n",
      "nhập 1 số từ 1 đến 10 :2\n",
      "mời nhập lại\n",
      "nhập 1 số từ 1 đến 10 :3\n",
      "mời nhập lại\n",
      "nhập 1 số từ 1 đến 10 :4\n",
      "mời nhập lại\n",
      "nhập 1 số từ 1 đến 10 :5\n",
      "mời nhập lại\n",
      "nhập 1 số từ 1 đến 10 :6\n",
      "mời nhập lại\n",
      "nhập 1 số từ 1 đến 10 :7\n",
      "mời nhập lại\n",
      "nhập 1 số từ 1 đến 10 :4\n",
      "mời nhập lại\n",
      "nhập 1 số từ 1 đến 10 :5\n",
      "mời nhập lại\n",
      "nhập 1 số từ 1 đến 10 :6\n",
      "mời nhập lại\n",
      "nhập 1 số từ 1 đến 10 :3\n",
      "mời nhập lại\n",
      "nhập 1 số từ 1 đến 10 :2\n",
      "mời nhập lại\n",
      "nhập 1 số từ 1 đến 10 :1\n",
      "chính xác\n",
      "nhập 1 số từ 1 đến 10 :\n"
     ]
    },
    {
     "ename": "ValueError",
     "evalue": "invalid literal for int() with base 10: ''",
     "output_type": "error",
     "traceback": [
      "\u001b[0;31m---------------------------------------------------------------------------\u001b[0m",
      "\u001b[0;31mValueError\u001b[0m                                Traceback (most recent call last)",
      "Cell \u001b[0;32mIn [6], line 1\u001b[0m\n\u001b[0;32m----> 1\u001b[0m \u001b[43mgame2\u001b[49m\u001b[43m(\u001b[49m\u001b[43m)\u001b[49m\n",
      "Cell \u001b[0;32mIn [4], line 5\u001b[0m, in \u001b[0;36mgame2\u001b[0;34m()\u001b[0m\n\u001b[1;32m      3\u001b[0m a\u001b[38;5;241m=\u001b[39mrandint(\u001b[38;5;241m1\u001b[39m,\u001b[38;5;241m10\u001b[39m)\n\u001b[1;32m      4\u001b[0m \u001b[38;5;28;01mwhile\u001b[39;00m \u001b[38;5;28;01mTrue\u001b[39;00m :\n\u001b[0;32m----> 5\u001b[0m     n\u001b[38;5;241m=\u001b[39m \u001b[38;5;28;43mint\u001b[39;49m\u001b[43m(\u001b[49m\u001b[38;5;28;43minput\u001b[39;49m\u001b[43m(\u001b[49m\u001b[38;5;124;43m\"\u001b[39;49m\u001b[38;5;124;43mnhập 1 số từ 1 đến 10 :\u001b[39;49m\u001b[38;5;124;43m\"\u001b[39;49m\u001b[43m)\u001b[49m\u001b[43m)\u001b[49m\n\u001b[1;32m      6\u001b[0m     \u001b[38;5;28;01mif\u001b[39;00m n\u001b[38;5;241m==\u001b[39ma : \u001b[38;5;28mprint\u001b[39m(\u001b[38;5;124m\"\u001b[39m\u001b[38;5;124mchính xác\u001b[39m\u001b[38;5;124m\"\u001b[39m)\n\u001b[1;32m      7\u001b[0m     \u001b[38;5;28;01melse\u001b[39;00m : \u001b[38;5;28mprint\u001b[39m(\u001b[38;5;124m\"\u001b[39m\u001b[38;5;124mmời nhập lại\u001b[39m\u001b[38;5;124m\"\u001b[39m)\n",
      "\u001b[0;31mValueError\u001b[0m: invalid literal for int() with base 10: ''"
     ]
    }
   ],
   "source": [
    "game2()"
   ]
  },
  {
   "cell_type": "code",
   "execution_count": null,
   "id": "1ede69f2",
   "metadata": {},
   "outputs": [],
   "source": [
    "game2()"
   ]
  },
  {
   "cell_type": "code",
   "execution_count": 5,
   "id": "2f3a87ec",
   "metadata": {},
   "outputs": [],
   "source": [
    "from random import randint\n",
    "def game3() :\n",
    "    a=randint(1,10)\n",
    "    while True :\n",
    "        n=int(input(\"nhập số từ 1 đến 10:\"))\n",
    "        if n==a: \n",
    "            print(\"đúng\")\n",
    "        elif n>a : print(\"lớn hơn số bí mật\")\n",
    "        elif n<a : print(\"nhỏ hơn số bí mật\")\n",
    "        "
   ]
  },
  {
   "cell_type": "code",
   "execution_count": 9,
   "id": "b5112eaa",
   "metadata": {},
   "outputs": [],
   "source": [
    "import game"
   ]
  },
  {
   "cell_type": "code",
   "execution_count": null,
   "id": "624efedb",
   "metadata": {},
   "outputs": [
    {
     "name": "stdout",
     "output_type": "stream",
     "text": [
      "nhập vào 1 số :5\n",
      "mời nhập lại\n",
      "nhập vào 1 số :6\n",
      "chính xác\n"
     ]
    }
   ],
   "source": [
    "game.game1()"
   ]
  },
  {
   "cell_type": "code",
   "execution_count": null,
   "id": "3d85ffbc",
   "metadata": {},
   "outputs": [],
   "source": []
  },
  {
   "cell_type": "code",
   "execution_count": null,
   "id": "e79d2744",
   "metadata": {},
   "outputs": [],
   "source": []
  },
  {
   "cell_type": "markdown",
   "id": "ae86073e",
   "metadata": {},
   "source": [
    "# docstring(hdsd hàm)"
   ]
  },
  {
   "cell_type": "code",
   "execution_count": null,
   "id": "7f382f0f",
   "metadata": {},
   "outputs": [],
   "source": []
  },
  {
   "cell_type": "code",
   "execution_count": 3,
   "id": "c7e186f1",
   "metadata": {},
   "outputs": [
    {
     "name": "stdout",
     "output_type": "stream",
     "text": [
      "Object `random.randint` not found.\n"
     ]
    }
   ],
   "source": [
    "random.randint?"
   ]
  },
  {
   "cell_type": "code",
   "execution_count": null,
   "id": "5e5bcbf0",
   "metadata": {},
   "outputs": [],
   "source": []
  },
  {
   "cell_type": "code",
   "execution_count": null,
   "id": "3b12e1de",
   "metadata": {},
   "outputs": [],
   "source": []
  }
 ],
 "metadata": {
  "kernelspec": {
   "display_name": "Python 3 (ipykernel)",
   "language": "python",
   "name": "python3"
  },
  "language_info": {
   "codemirror_mode": {
    "name": "ipython",
    "version": 3
   },
   "file_extension": ".py",
   "mimetype": "text/x-python",
   "name": "python",
   "nbconvert_exporter": "python",
   "pygments_lexer": "ipython3",
   "version": "3.9.7"
  }
 },
 "nbformat": 4,
 "nbformat_minor": 5
}
